{
 "cells": [
  {
   "cell_type": "markdown",
   "metadata": {},
   "source": [
    "## IDS 566 Project - SP22"
   ]
  },
  {
   "cell_type": "code",
   "execution_count": 7,
   "metadata": {},
   "outputs": [],
   "source": [
    "import pandas as pd\n",
    "import numpy as np\n",
    "import seaborn as sns \n",
    "import matplotlib.pyplot as plt\n",
    "import nltk\n",
    "from nltk.tokenize import word_tokenize\n",
    "from nltk.corpus import stopwords\n",
    "from nltk.stem import WordNetLemmatizer\n",
    "from nltk.stem import PorterStemmer\n",
    "from sklearn.feature_extraction.text import TfidfVectorizer\n",
    "from sklearn.decomposition import LatentDirichletAllocation\n",
    "from sklearn.feature_extraction.text import CountVectorizer\n",
    "import gensim\n",
    "from wordcloud import WordCloud\n",
    "\n",
    "from sklearn import model_selection, preprocessing, metrics, svm\n",
    "from sklearn.model_selection import train_test_split\n",
    "from sklearn.feature_extraction.text import TfidfVectorizer, CountVectorizer, TfidfTransformer\n",
    "import pandas as pd\n",
    "import numpy as np\n",
    "import nltk, string\n",
    "import spacy, pickle\n",
    "import warnings\n",
    "from nltk.corpus import stopwords\n",
    "warnings.filterwarnings('ignore')\n",
    "import matplotlib.pyplot as plt # for data visualization purposes\n",
    "import seaborn as sns # for statistical data visualization\n",
    "import gensim\n",
    "from collections import defaultdict, Counter\n",
    "from nltk.tokenize import word_tokenize\n",
    "from nltk.stem import PorterStemmer,WordNetLemmatizer\n",
    "from textblob import TextBlob\n",
    "%matplotlib inline\n",
    "from sklearn.model_selection import cross_val_score\n",
    "import time\n",
    "import en_core_web_sm, nltk, string, re\n",
    "from bs4 import BeautifulSoup\n",
    "# Loading model\n",
    "from xgboost import XGBClassifier\n",
    "from sklearn.naive_bayes import MultinomialNB, GaussianNB"
   ]
  },
  {
   "cell_type": "markdown",
   "metadata": {},
   "source": [
    "### Here we are importing the combine dataset of train, test and validation as one dataset which will be split further before model training"
   ]
  },
  {
   "cell_type": "code",
   "execution_count": 8,
   "metadata": {},
   "outputs": [],
   "source": [
    "train = pd.read_csv(\"liar_data.csv\")"
   ]
  },
  {
   "cell_type": "code",
   "execution_count": 9,
   "metadata": {},
   "outputs": [],
   "source": [
    "train.drop(columns=['Unnamed: 0'],inplace=True)"
   ]
  },
  {
   "cell_type": "code",
   "execution_count": 10,
   "metadata": {},
   "outputs": [],
   "source": [
    "train.columns = ['id',  # Column 1: the ID of the statement ([ID].json).\n",
    "        'label',             # Column 2: the label.\n",
    "        'statement',         # Column 3: the statement.\n",
    "        'subjects',          # Column 4: the subject(s).\n",
    "        'speaker',           # Column 5: the speaker.\n",
    "        'speaker_job_title', # Column 6: the speaker's job title.\n",
    "        'state_info',        # Column 7: the state info.\n",
    "        'party_affiliation', # Column 8: the party affiliation.\n",
    "        'count_1', # barely true counts.\n",
    "        'count_2', # false counts.\n",
    "        'count_3', # half true counts.\n",
    "        'count_4', # mostly true counts.\n",
    "        'count_5', # pants on fire counts.\n",
    "        'context']"
   ]
  },
  {
   "cell_type": "code",
   "execution_count": 11,
   "metadata": {},
   "outputs": [
    {
     "name": "stdout",
     "output_type": "stream",
     "text": [
      "<class 'pandas.core.frame.DataFrame'>\n",
      "RangeIndex: 12790 entries, 0 to 12789\n",
      "Data columns (total 14 columns):\n",
      " #   Column             Non-Null Count  Dtype  \n",
      "---  ------             --------------  -----  \n",
      " 0   id                 12790 non-null  object \n",
      " 1   label              12790 non-null  object \n",
      " 2   statement          12790 non-null  object \n",
      " 3   subjects           12788 non-null  object \n",
      " 4   speaker            12788 non-null  object \n",
      " 5   speaker_job_title  9223 non-null   object \n",
      " 6   state_info         10041 non-null  object \n",
      " 7   party_affiliation  12788 non-null  object \n",
      " 8   count_1            12788 non-null  float64\n",
      " 9   count_2            12788 non-null  float64\n",
      " 10  count_3            12788 non-null  float64\n",
      " 11  count_4            12788 non-null  float64\n",
      " 12  count_5            12788 non-null  float64\n",
      " 13  context            12659 non-null  object \n",
      "dtypes: float64(5), object(9)\n",
      "memory usage: 1.4+ MB\n"
     ]
    }
   ],
   "source": [
    "train.info()"
   ]
  },
  {
   "cell_type": "code",
   "execution_count": 12,
   "metadata": {},
   "outputs": [
    {
     "data": {
      "text/plain": [
       "id                      0\n",
       "label                   0\n",
       "statement               0\n",
       "subjects                2\n",
       "speaker                 2\n",
       "speaker_job_title    3567\n",
       "state_info           2749\n",
       "party_affiliation       2\n",
       "count_1                 2\n",
       "count_2                 2\n",
       "count_3                 2\n",
       "count_4                 2\n",
       "count_5                 2\n",
       "context               131\n",
       "dtype: int64"
      ]
     },
     "execution_count": 12,
     "metadata": {},
     "output_type": "execute_result"
    }
   ],
   "source": [
    "train.isna().sum()"
   ]
  },
  {
   "cell_type": "code",
   "execution_count": 13,
   "metadata": {},
   "outputs": [
    {
     "data": {
      "text/plain": [
       "half-true      2627\n",
       "FALSE          2506\n",
       "mostly-true    2454\n",
       "barely-true    2103\n",
       "TRUE           2053\n",
       "pants-fire     1047\n",
       "Name: label, dtype: int64"
      ]
     },
     "execution_count": 13,
     "metadata": {},
     "output_type": "execute_result"
    }
   ],
   "source": [
    "train['label'].value_counts()"
   ]
  },
  {
   "cell_type": "code",
   "execution_count": 14,
   "metadata": {},
   "outputs": [],
   "source": [
    "def prep(df):   \n",
    "    df = df.iloc[:,0:3]\n",
    "    df['label_new'] = df['label'].apply(lambda x: 'True' if x in ('half-true','mostly-true','true') else 'False')\n",
    "    df.drop(['label'],axis=1,inplace=True)\n",
    "    return df\n",
    "train = prep(train)"
   ]
  },
  {
   "cell_type": "code",
   "execution_count": 15,
   "metadata": {},
   "outputs": [
    {
     "name": "stdout",
     "output_type": "stream",
     "text": [
      "training dataset size:\n",
      "(12790, 3)\n"
     ]
    }
   ],
   "source": [
    "def data_obs():\n",
    "    print(\"training dataset size:\")\n",
    "    print(train.shape)\n",
    "\n",
    "data_obs()"
   ]
  },
  {
   "cell_type": "code",
   "execution_count": 16,
   "metadata": {},
   "outputs": [],
   "source": [
    "def plot(df):\n",
    "    sns.countplot(x='label_new',data=df,palette='hls')"
   ]
  },
  {
   "cell_type": "code",
   "execution_count": 17,
   "metadata": {},
   "outputs": [
    {
     "data": {
      "image/png": "[encoded data removed]",
      "text/plain": [
       "<Figure size 432x288 with 1 Axes>"
      ]
     },
     "metadata": {
      "needs_background": "light"
     },
     "output_type": "display_data"
    }
   ],
   "source": [
    "plot(train)"
   ]
  },
  {
   "cell_type": "code",
   "execution_count": 18,
   "metadata": {},
   "outputs": [
    {
     "name": "stdout",
     "output_type": "stream",
     "text": [
      "id           0\n",
      "statement    0\n",
      "label_new    0\n",
      "dtype: int64\n"
     ]
    }
   ],
   "source": [
    "def check_null():\n",
    "    print(train.isna().sum())\n",
    "check_null()"
   ]
  },
  {
   "cell_type": "code",
   "execution_count": 19,
   "metadata": {},
   "outputs": [
    {
     "data": {
      "text/plain": [
       "array([<AxesSubplot:title={'center':'False'}>,\n",
       "       <AxesSubplot:title={'center':'True'}>], dtype=object)"
      ]
     },
     "execution_count": 19,
     "metadata": {},
     "output_type": "execute_result"
    },
    {
     "data": {
      "image/png": "[encoded data removed]",
      "text/plain": [
       "<Figure size 432x288 with 2 Axes>"
      ]
     },
     "metadata": {
      "needs_background": "light"
     },
     "output_type": "display_data"
    }
   ],
   "source": [
    "# The word distribution among the text of the news \n",
    "trainCopy=train.copy()\n",
    "trainCopy['statement'].str.split().apply(lambda x:[len(i) for i in x]).map(lambda x: np.mean(x)).hist(by=trainCopy['label_new'])"
   ]
  },
  {
   "cell_type": "code",
   "execution_count": 20,
   "metadata": {},
   "outputs": [
    {
     "data": {
      "image/png": "[encoded data removed]",
      "text/plain": [
       "<Figure size 432x288 with 1 Axes>"
      ]
     },
     "metadata": {
      "needs_background": "light"
     },
     "output_type": "display_data"
    }
   ],
   "source": [
    "# The word count of the text is distributed amoung the 0 and around 60 words\n",
    "trainCopy['word_count'] = trainCopy['statement'].apply(lambda x: len(str(x).split()))\n",
    "sns.distplot(trainCopy['word_count'])\n",
    "fig = plt.gcf()"
   ]
  },
  {
   "cell_type": "code",
   "execution_count": 21,
   "metadata": {},
   "outputs": [],
   "source": [
    "train_n = train.copy()"
   ]
  },
  {
   "cell_type": "code",
   "execution_count": 22,
   "metadata": {},
   "outputs": [],
   "source": [
    "def pre_process(df_col):\n",
    "    tokens = word_tokenize(df_col)\n",
    "    doc = [word for word in tokens if word.isalpha()]\n",
    "    doc1 = [word.lower() for word in doc]\n",
    "    stop_words = stopwords.words('english')\n",
    "    doc2 = [w for w in doc1 if not w in stop_words]\n",
    "    porter = PorterStemmer()\n",
    "    doc3 = [porter.stem(word) for word in doc2]\n",
    "#     lemmatizer = WordNetLemmatizer()\n",
    "#     doc3 = [lemmatizer.lemmatize(w) for w in doc2]\n",
    "    doc4 = [w for w in doc3 if not len(w) == 1]\n",
    "    doc5 = ' '.join(doc4)\n",
    "    return doc5"
   ]
  },
  {
   "cell_type": "code",
   "execution_count": 23,
   "metadata": {},
   "outputs": [],
   "source": [
    "train_n['statement_proc']=train_n['statement'].apply(pre_process)\n",
    "train_n.drop(['statement','id'],axis=1,inplace=True)"
   ]
  },
  {
   "cell_type": "code",
   "execution_count": 24,
   "metadata": {},
   "outputs": [
    {
     "data": {
      "text/html": [
       "<div>\n",
       "<style scoped>\n",
       "    .dataframe tbody tr th:only-of-type {\n",
       "        vertical-align: middle;\n",
       "    }\n",
       "\n",
       "    .dataframe tbody tr th {\n",
       "        vertical-align: top;\n",
       "    }\n",
       "\n",
       "    .dataframe thead th {\n",
       "        text-align: right;\n",
       "    }\n",
       "</style>\n",
       "<table border=\"1\" class=\"dataframe\">\n",
       "  <thead>\n",
       "    <tr style=\"text-align: right;\">\n",
       "      <th></th>\n",
       "      <th>label_new</th>\n",
       "      <th>statement_proc</th>\n",
       "    </tr>\n",
       "  </thead>\n",
       "  <tbody>\n",
       "    <tr>\n",
       "      <th>0</th>\n",
       "      <td>True</td>\n",
       "      <td>declin coal start start natur ga took start be...</td>\n",
       "    </tr>\n",
       "    <tr>\n",
       "      <th>1</th>\n",
       "      <td>True</td>\n",
       "      <td>hillari clinton agre john mccain vote give geo...</td>\n",
       "    </tr>\n",
       "    <tr>\n",
       "      <th>2</th>\n",
       "      <td>False</td>\n",
       "      <td>health care reform legisl like mandat free sex...</td>\n",
       "    </tr>\n",
       "    <tr>\n",
       "      <th>3</th>\n",
       "      <td>True</td>\n",
       "      <td>econom turnaround start end term</td>\n",
       "    </tr>\n",
       "    <tr>\n",
       "      <th>4</th>\n",
       "      <td>False</td>\n",
       "      <td>chicago bear start quarterback last year total...</td>\n",
       "    </tr>\n",
       "  </tbody>\n",
       "</table>\n",
       "</div>"
      ],
      "text/plain": [
       "  label_new                                     statement_proc\n",
       "0      True  declin coal start start natur ga took start be...\n",
       "1      True  hillari clinton agre john mccain vote give geo...\n",
       "2     False  health care reform legisl like mandat free sex...\n",
       "3      True                   econom turnaround start end term\n",
       "4     False  chicago bear start quarterback last year total..."
      ]
     },
     "execution_count": 24,
     "metadata": {},
     "output_type": "execute_result"
    }
   ],
   "source": [
    "train_n.head()"
   ]
  },
  {
   "cell_type": "code",
   "execution_count": 25,
   "metadata": {},
   "outputs": [],
   "source": [
    "vectorizer1 = TfidfVectorizer()\n",
    "doc_vec1 = vectorizer1.fit_transform(train_n['statement_proc'])"
   ]
  },
  {
   "cell_type": "code",
   "execution_count": 26,
   "metadata": {},
   "outputs": [],
   "source": [
    "train_tfidf = pd.DataFrame(doc_vec1.toarray(),\n",
    "                   columns=vectorizer1.get_feature_names())"
   ]
  },
  {
   "cell_type": "code",
   "execution_count": 27,
   "metadata": {},
   "outputs": [
    {
     "data": {
      "text/html": [
       "<div>\n",
       "<style scoped>\n",
       "    .dataframe tbody tr th:only-of-type {\n",
       "        vertical-align: middle;\n",
       "    }\n",
       "\n",
       "    .dataframe tbody tr th {\n",
       "        vertical-align: top;\n",
       "    }\n",
       "\n",
       "    .dataframe thead th {\n",
       "        text-align: right;\n",
       "    }\n",
       "</style>\n",
       "<table border=\"1\" class=\"dataframe\">\n",
       "  <thead>\n",
       "    <tr style=\"text-align: right;\">\n",
       "      <th></th>\n",
       "      <th>aa</th>\n",
       "      <th>aaa</th>\n",
       "      <th>aaron</th>\n",
       "      <th>aarp</th>\n",
       "      <th>aba</th>\n",
       "      <th>abandon</th>\n",
       "      <th>abba</th>\n",
       "      <th>abbott</th>\n",
       "      <th>abc</th>\n",
       "      <th>abdul</th>\n",
       "      <th>...</th>\n",
       "      <th>zika</th>\n",
       "      <th>zimmerman</th>\n",
       "      <th>zinn</th>\n",
       "      <th>zip</th>\n",
       "      <th>zippo</th>\n",
       "      <th>zombi</th>\n",
       "      <th>zone</th>\n",
       "      <th>zoo</th>\n",
       "      <th>zuckerberg</th>\n",
       "      <th>ʺmore</th>\n",
       "    </tr>\n",
       "  </thead>\n",
       "  <tbody>\n",
       "    <tr>\n",
       "      <th>0</th>\n",
       "      <td>0.0</td>\n",
       "      <td>0.0</td>\n",
       "      <td>0.0</td>\n",
       "      <td>0.0</td>\n",
       "      <td>0.0</td>\n",
       "      <td>0.0</td>\n",
       "      <td>0.0</td>\n",
       "      <td>0.0</td>\n",
       "      <td>0.0</td>\n",
       "      <td>0.0</td>\n",
       "      <td>...</td>\n",
       "      <td>0.0</td>\n",
       "      <td>0.0</td>\n",
       "      <td>0.0</td>\n",
       "      <td>0.0</td>\n",
       "      <td>0.0</td>\n",
       "      <td>0.0</td>\n",
       "      <td>0.0</td>\n",
       "      <td>0.0</td>\n",
       "      <td>0.0</td>\n",
       "      <td>0.0</td>\n",
       "    </tr>\n",
       "    <tr>\n",
       "      <th>1</th>\n",
       "      <td>0.0</td>\n",
       "      <td>0.0</td>\n",
       "      <td>0.0</td>\n",
       "      <td>0.0</td>\n",
       "      <td>0.0</td>\n",
       "      <td>0.0</td>\n",
       "      <td>0.0</td>\n",
       "      <td>0.0</td>\n",
       "      <td>0.0</td>\n",
       "      <td>0.0</td>\n",
       "      <td>...</td>\n",
       "      <td>0.0</td>\n",
       "      <td>0.0</td>\n",
       "      <td>0.0</td>\n",
       "      <td>0.0</td>\n",
       "      <td>0.0</td>\n",
       "      <td>0.0</td>\n",
       "      <td>0.0</td>\n",
       "      <td>0.0</td>\n",
       "      <td>0.0</td>\n",
       "      <td>0.0</td>\n",
       "    </tr>\n",
       "    <tr>\n",
       "      <th>2</th>\n",
       "      <td>0.0</td>\n",
       "      <td>0.0</td>\n",
       "      <td>0.0</td>\n",
       "      <td>0.0</td>\n",
       "      <td>0.0</td>\n",
       "      <td>0.0</td>\n",
       "      <td>0.0</td>\n",
       "      <td>0.0</td>\n",
       "      <td>0.0</td>\n",
       "      <td>0.0</td>\n",
       "      <td>...</td>\n",
       "      <td>0.0</td>\n",
       "      <td>0.0</td>\n",
       "      <td>0.0</td>\n",
       "      <td>0.0</td>\n",
       "      <td>0.0</td>\n",
       "      <td>0.0</td>\n",
       "      <td>0.0</td>\n",
       "      <td>0.0</td>\n",
       "      <td>0.0</td>\n",
       "      <td>0.0</td>\n",
       "    </tr>\n",
       "    <tr>\n",
       "      <th>3</th>\n",
       "      <td>0.0</td>\n",
       "      <td>0.0</td>\n",
       "      <td>0.0</td>\n",
       "      <td>0.0</td>\n",
       "      <td>0.0</td>\n",
       "      <td>0.0</td>\n",
       "      <td>0.0</td>\n",
       "      <td>0.0</td>\n",
       "      <td>0.0</td>\n",
       "      <td>0.0</td>\n",
       "      <td>...</td>\n",
       "      <td>0.0</td>\n",
       "      <td>0.0</td>\n",
       "      <td>0.0</td>\n",
       "      <td>0.0</td>\n",
       "      <td>0.0</td>\n",
       "      <td>0.0</td>\n",
       "      <td>0.0</td>\n",
       "      <td>0.0</td>\n",
       "      <td>0.0</td>\n",
       "      <td>0.0</td>\n",
       "    </tr>\n",
       "    <tr>\n",
       "      <th>4</th>\n",
       "      <td>0.0</td>\n",
       "      <td>0.0</td>\n",
       "      <td>0.0</td>\n",
       "      <td>0.0</td>\n",
       "      <td>0.0</td>\n",
       "      <td>0.0</td>\n",
       "      <td>0.0</td>\n",
       "      <td>0.0</td>\n",
       "      <td>0.0</td>\n",
       "      <td>0.0</td>\n",
       "      <td>...</td>\n",
       "      <td>0.0</td>\n",
       "      <td>0.0</td>\n",
       "      <td>0.0</td>\n",
       "      <td>0.0</td>\n",
       "      <td>0.0</td>\n",
       "      <td>0.0</td>\n",
       "      <td>0.0</td>\n",
       "      <td>0.0</td>\n",
       "      <td>0.0</td>\n",
       "      <td>0.0</td>\n",
       "    </tr>\n",
       "  </tbody>\n",
       "</table>\n",
       "<p>5 rows × 8243 columns</p>\n",
       "</div>"
      ],
      "text/plain": [
       "    aa  aaa  aaron  aarp  aba  abandon  abba  abbott  abc  abdul  ...  zika  \\\n",
       "0  0.0  0.0    0.0   0.0  0.0      0.0   0.0     0.0  0.0    0.0  ...   0.0   \n",
       "1  0.0  0.0    0.0   0.0  0.0      0.0   0.0     0.0  0.0    0.0  ...   0.0   \n",
       "2  0.0  0.0    0.0   0.0  0.0      0.0   0.0     0.0  0.0    0.0  ...   0.0   \n",
       "3  0.0  0.0    0.0   0.0  0.0      0.0   0.0     0.0  0.0    0.0  ...   0.0   \n",
       "4  0.0  0.0    0.0   0.0  0.0      0.0   0.0     0.0  0.0    0.0  ...   0.0   \n",
       "\n",
       "   zimmerman  zinn  zip  zippo  zombi  zone  zoo  zuckerberg  ʺmore  \n",
       "0        0.0   0.0  0.0    0.0    0.0   0.0  0.0         0.0    0.0  \n",
       "1        0.0   0.0  0.0    0.0    0.0   0.0  0.0         0.0    0.0  \n",
       "2        0.0   0.0  0.0    0.0    0.0   0.0  0.0         0.0    0.0  \n",
       "3        0.0   0.0  0.0    0.0    0.0   0.0  0.0         0.0    0.0  \n",
       "4        0.0   0.0  0.0    0.0    0.0   0.0  0.0         0.0    0.0  \n",
       "\n",
       "[5 rows x 8243 columns]"
      ]
     },
     "execution_count": 27,
     "metadata": {},
     "output_type": "execute_result"
    }
   ],
   "source": [
    "train_tfidf.head()"
   ]
  },
  {
   "cell_type": "code",
   "execution_count": 28,
   "metadata": {},
   "outputs": [],
   "source": [
    "train_data1 = pd.concat([train_n,train_tfidf], axis=1)"
   ]
  },
  {
   "cell_type": "code",
   "execution_count": 29,
   "metadata": {},
   "outputs": [
    {
     "data": {
      "text/html": [
       "<div>\n",
       "<style scoped>\n",
       "    .dataframe tbody tr th:only-of-type {\n",
       "        vertical-align: middle;\n",
       "    }\n",
       "\n",
       "    .dataframe tbody tr th {\n",
       "        vertical-align: top;\n",
       "    }\n",
       "\n",
       "    .dataframe thead th {\n",
       "        text-align: right;\n",
       "    }\n",
       "</style>\n",
       "<table border=\"1\" class=\"dataframe\">\n",
       "  <thead>\n",
       "    <tr style=\"text-align: right;\">\n",
       "      <th></th>\n",
       "      <th>label_new</th>\n",
       "      <th>statement_proc</th>\n",
       "      <th>aa</th>\n",
       "      <th>aaa</th>\n",
       "      <th>aaron</th>\n",
       "      <th>aarp</th>\n",
       "      <th>aba</th>\n",
       "      <th>abandon</th>\n",
       "      <th>abba</th>\n",
       "      <th>abbott</th>\n",
       "      <th>...</th>\n",
       "      <th>zika</th>\n",
       "      <th>zimmerman</th>\n",
       "      <th>zinn</th>\n",
       "      <th>zip</th>\n",
       "      <th>zippo</th>\n",
       "      <th>zombi</th>\n",
       "      <th>zone</th>\n",
       "      <th>zoo</th>\n",
       "      <th>zuckerberg</th>\n",
       "      <th>ʺmore</th>\n",
       "    </tr>\n",
       "  </thead>\n",
       "  <tbody>\n",
       "    <tr>\n",
       "      <th>0</th>\n",
       "      <td>True</td>\n",
       "      <td>declin coal start start natur ga took start be...</td>\n",
       "      <td>0.0</td>\n",
       "      <td>0.0</td>\n",
       "      <td>0.0</td>\n",
       "      <td>0.0</td>\n",
       "      <td>0.0</td>\n",
       "      <td>0.0</td>\n",
       "      <td>0.0</td>\n",
       "      <td>0.0</td>\n",
       "      <td>...</td>\n",
       "      <td>0.0</td>\n",
       "      <td>0.0</td>\n",
       "      <td>0.0</td>\n",
       "      <td>0.0</td>\n",
       "      <td>0.0</td>\n",
       "      <td>0.0</td>\n",
       "      <td>0.0</td>\n",
       "      <td>0.0</td>\n",
       "      <td>0.0</td>\n",
       "      <td>0.0</td>\n",
       "    </tr>\n",
       "    <tr>\n",
       "      <th>1</th>\n",
       "      <td>True</td>\n",
       "      <td>hillari clinton agre john mccain vote give geo...</td>\n",
       "      <td>0.0</td>\n",
       "      <td>0.0</td>\n",
       "      <td>0.0</td>\n",
       "      <td>0.0</td>\n",
       "      <td>0.0</td>\n",
       "      <td>0.0</td>\n",
       "      <td>0.0</td>\n",
       "      <td>0.0</td>\n",
       "      <td>...</td>\n",
       "      <td>0.0</td>\n",
       "      <td>0.0</td>\n",
       "      <td>0.0</td>\n",
       "      <td>0.0</td>\n",
       "      <td>0.0</td>\n",
       "      <td>0.0</td>\n",
       "      <td>0.0</td>\n",
       "      <td>0.0</td>\n",
       "      <td>0.0</td>\n",
       "      <td>0.0</td>\n",
       "    </tr>\n",
       "    <tr>\n",
       "      <th>2</th>\n",
       "      <td>False</td>\n",
       "      <td>health care reform legisl like mandat free sex...</td>\n",
       "      <td>0.0</td>\n",
       "      <td>0.0</td>\n",
       "      <td>0.0</td>\n",
       "      <td>0.0</td>\n",
       "      <td>0.0</td>\n",
       "      <td>0.0</td>\n",
       "      <td>0.0</td>\n",
       "      <td>0.0</td>\n",
       "      <td>...</td>\n",
       "      <td>0.0</td>\n",
       "      <td>0.0</td>\n",
       "      <td>0.0</td>\n",
       "      <td>0.0</td>\n",
       "      <td>0.0</td>\n",
       "      <td>0.0</td>\n",
       "      <td>0.0</td>\n",
       "      <td>0.0</td>\n",
       "      <td>0.0</td>\n",
       "      <td>0.0</td>\n",
       "    </tr>\n",
       "    <tr>\n",
       "      <th>3</th>\n",
       "      <td>True</td>\n",
       "      <td>econom turnaround start end term</td>\n",
       "      <td>0.0</td>\n",
       "      <td>0.0</td>\n",
       "      <td>0.0</td>\n",
       "      <td>0.0</td>\n",
       "      <td>0.0</td>\n",
       "      <td>0.0</td>\n",
       "      <td>0.0</td>\n",
       "      <td>0.0</td>\n",
       "      <td>...</td>\n",
       "      <td>0.0</td>\n",
       "      <td>0.0</td>\n",
       "      <td>0.0</td>\n",
       "      <td>0.0</td>\n",
       "      <td>0.0</td>\n",
       "      <td>0.0</td>\n",
       "      <td>0.0</td>\n",
       "      <td>0.0</td>\n",
       "      <td>0.0</td>\n",
       "      <td>0.0</td>\n",
       "    </tr>\n",
       "    <tr>\n",
       "      <th>4</th>\n",
       "      <td>False</td>\n",
       "      <td>chicago bear start quarterback last year total...</td>\n",
       "      <td>0.0</td>\n",
       "      <td>0.0</td>\n",
       "      <td>0.0</td>\n",
       "      <td>0.0</td>\n",
       "      <td>0.0</td>\n",
       "      <td>0.0</td>\n",
       "      <td>0.0</td>\n",
       "      <td>0.0</td>\n",
       "      <td>...</td>\n",
       "      <td>0.0</td>\n",
       "      <td>0.0</td>\n",
       "      <td>0.0</td>\n",
       "      <td>0.0</td>\n",
       "      <td>0.0</td>\n",
       "      <td>0.0</td>\n",
       "      <td>0.0</td>\n",
       "      <td>0.0</td>\n",
       "      <td>0.0</td>\n",
       "      <td>0.0</td>\n",
       "    </tr>\n",
       "    <tr>\n",
       "      <th>...</th>\n",
       "      <td>...</td>\n",
       "      <td>...</td>\n",
       "      <td>...</td>\n",
       "      <td>...</td>\n",
       "      <td>...</td>\n",
       "      <td>...</td>\n",
       "      <td>...</td>\n",
       "      <td>...</td>\n",
       "      <td>...</td>\n",
       "      <td>...</td>\n",
       "      <td>...</td>\n",
       "      <td>...</td>\n",
       "      <td>...</td>\n",
       "      <td>...</td>\n",
       "      <td>...</td>\n",
       "      <td>...</td>\n",
       "      <td>...</td>\n",
       "      <td>...</td>\n",
       "      <td>...</td>\n",
       "      <td>...</td>\n",
       "      <td>...</td>\n",
       "    </tr>\n",
       "    <tr>\n",
       "      <th>12785</th>\n",
       "      <td>True</td>\n",
       "      <td>first time decad import account less half oil ...</td>\n",
       "      <td>0.0</td>\n",
       "      <td>0.0</td>\n",
       "      <td>0.0</td>\n",
       "      <td>0.0</td>\n",
       "      <td>0.0</td>\n",
       "      <td>0.0</td>\n",
       "      <td>0.0</td>\n",
       "      <td>0.0</td>\n",
       "      <td>...</td>\n",
       "      <td>0.0</td>\n",
       "      <td>0.0</td>\n",
       "      <td>0.0</td>\n",
       "      <td>0.0</td>\n",
       "      <td>0.0</td>\n",
       "      <td>0.0</td>\n",
       "      <td>0.0</td>\n",
       "      <td>0.0</td>\n",
       "      <td>0.0</td>\n",
       "      <td>0.0</td>\n",
       "    </tr>\n",
       "    <tr>\n",
       "      <th>12786</th>\n",
       "      <td>True</td>\n",
       "      <td>say donald trump bankrupt compani twice four time</td>\n",
       "      <td>0.0</td>\n",
       "      <td>0.0</td>\n",
       "      <td>0.0</td>\n",
       "      <td>0.0</td>\n",
       "      <td>0.0</td>\n",
       "      <td>0.0</td>\n",
       "      <td>0.0</td>\n",
       "      <td>0.0</td>\n",
       "      <td>...</td>\n",
       "      <td>0.0</td>\n",
       "      <td>0.0</td>\n",
       "      <td>0.0</td>\n",
       "      <td>0.0</td>\n",
       "      <td>0.0</td>\n",
       "      <td>0.0</td>\n",
       "      <td>0.0</td>\n",
       "      <td>0.0</td>\n",
       "      <td>0.0</td>\n",
       "      <td>0.0</td>\n",
       "    </tr>\n",
       "    <tr>\n",
       "      <th>12787</th>\n",
       "      <td>False</td>\n",
       "      <td>john mccain georg bush absolut plan univers he...</td>\n",
       "      <td>0.0</td>\n",
       "      <td>0.0</td>\n",
       "      <td>0.0</td>\n",
       "      <td>0.0</td>\n",
       "      <td>0.0</td>\n",
       "      <td>0.0</td>\n",
       "      <td>0.0</td>\n",
       "      <td>0.0</td>\n",
       "      <td>...</td>\n",
       "      <td>0.0</td>\n",
       "      <td>0.0</td>\n",
       "      <td>0.0</td>\n",
       "      <td>0.0</td>\n",
       "      <td>0.0</td>\n",
       "      <td>0.0</td>\n",
       "      <td>0.0</td>\n",
       "      <td>0.0</td>\n",
       "      <td>0.0</td>\n",
       "      <td>0.0</td>\n",
       "    </tr>\n",
       "    <tr>\n",
       "      <th>12788</th>\n",
       "      <td>False</td>\n",
       "      <td>new poll show percent support presid plan refo...</td>\n",
       "      <td>0.0</td>\n",
       "      <td>0.0</td>\n",
       "      <td>0.0</td>\n",
       "      <td>0.0</td>\n",
       "      <td>0.0</td>\n",
       "      <td>0.0</td>\n",
       "      <td>0.0</td>\n",
       "      <td>0.0</td>\n",
       "      <td>...</td>\n",
       "      <td>0.0</td>\n",
       "      <td>0.0</td>\n",
       "      <td>0.0</td>\n",
       "      <td>0.0</td>\n",
       "      <td>0.0</td>\n",
       "      <td>0.0</td>\n",
       "      <td>0.0</td>\n",
       "      <td>0.0</td>\n",
       "      <td>0.0</td>\n",
       "      <td>0.0</td>\n",
       "    </tr>\n",
       "    <tr>\n",
       "      <th>12789</th>\n",
       "      <td>False</td>\n",
       "      <td>one claim report vindic new jersey gov chri ch...</td>\n",
       "      <td>0.0</td>\n",
       "      <td>0.0</td>\n",
       "      <td>0.0</td>\n",
       "      <td>0.0</td>\n",
       "      <td>0.0</td>\n",
       "      <td>0.0</td>\n",
       "      <td>0.0</td>\n",
       "      <td>0.0</td>\n",
       "      <td>...</td>\n",
       "      <td>0.0</td>\n",
       "      <td>0.0</td>\n",
       "      <td>0.0</td>\n",
       "      <td>0.0</td>\n",
       "      <td>0.0</td>\n",
       "      <td>0.0</td>\n",
       "      <td>0.0</td>\n",
       "      <td>0.0</td>\n",
       "      <td>0.0</td>\n",
       "      <td>0.0</td>\n",
       "    </tr>\n",
       "  </tbody>\n",
       "</table>\n",
       "<p>12790 rows × 8245 columns</p>\n",
       "</div>"
      ],
      "text/plain": [
       "      label_new                                     statement_proc   aa  aaa  \\\n",
       "0          True  declin coal start start natur ga took start be...  0.0  0.0   \n",
       "1          True  hillari clinton agre john mccain vote give geo...  0.0  0.0   \n",
       "2         False  health care reform legisl like mandat free sex...  0.0  0.0   \n",
       "3          True                   econom turnaround start end term  0.0  0.0   \n",
       "4         False  chicago bear start quarterback last year total...  0.0  0.0   \n",
       "...         ...                                                ...  ...  ...   \n",
       "12785      True  first time decad import account less half oil ...  0.0  0.0   \n",
       "12786      True  say donald trump bankrupt compani twice four time  0.0  0.0   \n",
       "12787     False  john mccain georg bush absolut plan univers he...  0.0  0.0   \n",
       "12788     False  new poll show percent support presid plan refo...  0.0  0.0   \n",
       "12789     False  one claim report vindic new jersey gov chri ch...  0.0  0.0   \n",
       "\n",
       "       aaron  aarp  aba  abandon  abba  abbott  ...  zika  zimmerman  zinn  \\\n",
       "0        0.0   0.0  0.0      0.0   0.0     0.0  ...   0.0        0.0   0.0   \n",
       "1        0.0   0.0  0.0      0.0   0.0     0.0  ...   0.0        0.0   0.0   \n",
       "2        0.0   0.0  0.0      0.0   0.0     0.0  ...   0.0        0.0   0.0   \n",
       "3        0.0   0.0  0.0      0.0   0.0     0.0  ...   0.0        0.0   0.0   \n",
       "4        0.0   0.0  0.0      0.0   0.0     0.0  ...   0.0        0.0   0.0   \n",
       "...      ...   ...  ...      ...   ...     ...  ...   ...        ...   ...   \n",
       "12785    0.0   0.0  0.0      0.0   0.0     0.0  ...   0.0        0.0   0.0   \n",
       "12786    0.0   0.0  0.0      0.0   0.0     0.0  ...   0.0        0.0   0.0   \n",
       "12787    0.0   0.0  0.0      0.0   0.0     0.0  ...   0.0        0.0   0.0   \n",
       "12788    0.0   0.0  0.0      0.0   0.0     0.0  ...   0.0        0.0   0.0   \n",
       "12789    0.0   0.0  0.0      0.0   0.0     0.0  ...   0.0        0.0   0.0   \n",
       "\n",
       "       zip  zippo  zombi  zone  zoo  zuckerberg  ʺmore  \n",
       "0      0.0    0.0    0.0   0.0  0.0         0.0    0.0  \n",
       "1      0.0    0.0    0.0   0.0  0.0         0.0    0.0  \n",
       "2      0.0    0.0    0.0   0.0  0.0         0.0    0.0  \n",
       "3      0.0    0.0    0.0   0.0  0.0         0.0    0.0  \n",
       "4      0.0    0.0    0.0   0.0  0.0         0.0    0.0  \n",
       "...    ...    ...    ...   ...  ...         ...    ...  \n",
       "12785  0.0    0.0    0.0   0.0  0.0         0.0    0.0  \n",
       "12786  0.0    0.0    0.0   0.0  0.0         0.0    0.0  \n",
       "12787  0.0    0.0    0.0   0.0  0.0         0.0    0.0  \n",
       "12788  0.0    0.0    0.0   0.0  0.0         0.0    0.0  \n",
       "12789  0.0    0.0    0.0   0.0  0.0         0.0    0.0  \n",
       "\n",
       "[12790 rows x 8245 columns]"
      ]
     },
     "execution_count": 29,
     "metadata": {},
     "output_type": "execute_result"
    }
   ],
   "source": [
    "train_data1"
   ]
  },
  {
   "cell_type": "markdown",
   "metadata": {},
   "source": [
    "#### Topic Generation"
   ]
  },
  {
   "cell_type": "code",
   "execution_count": 30,
   "metadata": {},
   "outputs": [],
   "source": [
    "lda_model=LatentDirichletAllocation(n_components=10,learning_method='online',random_state=42,max_iter=1) \n",
    "lda_top=lda_model.fit_transform(train_tfidf)"
   ]
  },
  {
   "cell_type": "code",
   "execution_count": 31,
   "metadata": {},
   "outputs": [
    {
     "data": {
      "text/plain": [
       "aa            0.0\n",
       "aaa           0.0\n",
       "aaron         0.0\n",
       "aarp          0.0\n",
       "aba           0.0\n",
       "             ... \n",
       "zombi         0.0\n",
       "zone          0.0\n",
       "zoo           0.0\n",
       "zuckerberg    0.0\n",
       "ʺmore         0.0\n",
       "Name: 0, Length: 8243, dtype: float64"
      ]
     },
     "execution_count": 31,
     "metadata": {},
     "output_type": "execute_result"
    }
   ],
   "source": [
    "train_tfidf.iloc[0]"
   ]
  },
  {
   "cell_type": "code",
   "execution_count": 32,
   "metadata": {},
   "outputs": [
    {
     "name": "stdout",
     "output_type": "stream",
     "text": [
      "Topic 0: \n",
      "clinton hillari mccain john deal iran know crist charli say \n",
      "\n",
      "Topic 1: \n",
      "women georgia wage abort poverti minimum elimin invest die gone \n",
      "\n",
      "Topic 2: \n",
      "trump attack donald reagan say paul ronald mexico human endors \n",
      "\n",
      "Topic 3: \n",
      "say spent border rick trade econom servic scott gov taxpay \n",
      "\n",
      "Topic 4: \n",
      "never univers check decid stand given background gun favor word \n",
      "\n",
      "Topic 5: \n",
      "job year obama presid percent sinc offic counti creat two \n",
      "\n",
      "Topic 6: \n",
      "say tax state health percent care year vote obama billion \n",
      "\n",
      "Topic 7: \n",
      "walker scott rubio ban water marco percentag equal intern weapon \n",
      "\n",
      "Topic 8: \n",
      "island florida rhode crime provid marriag rate percent school street \n",
      "\n",
      "Topic 9: \n",
      "illeg immigr contribut pension stop popul buy muslim fraud tri \n",
      "\n"
     ]
    }
   ],
   "source": [
    "vocab = vectorizer1.get_feature_names()\n",
    "for i, comp in enumerate(lda_model.components_):\n",
    "    vocab_comp = zip(vocab, comp)\n",
    "    sorted_words = sorted(vocab_comp, key= lambda x:x[1], reverse=True)[:10]\n",
    "    print(\"Topic \"+str(i)+\": \")\n",
    "    for t in sorted_words:\n",
    "        print(t[0],end=\" \")\n",
    "    print(\"\\n\")"
   ]
  },
  {
   "cell_type": "code",
   "execution_count": 33,
   "metadata": {},
   "outputs": [],
   "source": [
    "def topic_tag(df):\n",
    "    train_n['topic1'] =''\n",
    "    train_n['topic2'] =''\n",
    "    train_n['topic3'] =''\n",
    "    train_n['topic4'] =''\n",
    "    train_n['topic5'] =''\n",
    "    train_n['topic6'] =''\n",
    "    train_n['topic7'] =''\n",
    "    train_n['topic8'] =''\n",
    "    train_n['topic9'] =''\n",
    "    train_n['topic10'] =''\n",
    "    for i in range(df.shape[0]):\n",
    "#         for k,j in enumerate(train_n.columns[2:]):\n",
    "#             df[j] = lda_top[i][k]\n",
    "        df['topic1'].iloc[i] = lda_top[i][0]\n",
    "        df['topic2'].iloc[i] = lda_top[i][1]\n",
    "        df['topic3'].iloc[i] = lda_top[i][2]\n",
    "        df['topic4'].iloc[i] = lda_top[i][3]\n",
    "        df['topic5'].iloc[i] = lda_top[i][4]\n",
    "        df['topic6'].iloc[i] = lda_top[i][5]\n",
    "        df['topic7'].iloc[i] = lda_top[i][6]\n",
    "        df['topic8'].iloc[i] = lda_top[i][7]\n",
    "        df['topic9'].iloc[i] = lda_top[i][8]\n",
    "        df['topic10'].iloc[i] = lda_top[i][9]\n",
    "    return df\n",
    "train_t=topic_tag(train_n)"
   ]
  },
  {
   "cell_type": "code",
   "execution_count": 34,
   "metadata": {},
   "outputs": [
    {
     "data": {
      "text/plain": [
       "(12790, 12)"
      ]
     },
     "execution_count": 34,
     "metadata": {},
     "output_type": "execute_result"
    }
   ],
   "source": [
    "train_t.shape"
   ]
  },
  {
   "cell_type": "code",
   "execution_count": 35,
   "metadata": {},
   "outputs": [
    {
     "name": "stdout",
     "output_type": "stream",
     "text": [
      "[0.06755940095526061, 0.06625944228138522, 0.05827246722155804, 0.0944144350439828, 0.040636969798570774, 0.1196422035016744, 0.34611136033771733, 0.050429422969080324, 0.08024488300211487, 0.0764294148886539]\n",
      "[0.07314030120042103, 0.0700835383425244, 0.06445300764618606, 0.0956048084043705, 0.04448324925086169, 0.10976327376468217, 0.3307360266971275, 0.05430704389310276, 0.07838110505842939, 0.07904764574229474]\n"
     ]
    },
    {
     "data": {
      "text/plain": [
       "Index(['topic1', 'topic2', 'topic3', 'topic4', 'topic5', 'topic6', 'topic7',\n",
       "       'topic8', 'topic9', 'topic10'],\n",
       "      dtype='object')"
      ]
     },
     "execution_count": 35,
     "metadata": {},
     "output_type": "execute_result"
    }
   ],
   "source": [
    "x_f = [train_t[train_t['label_new']=='False']['topic1'].mean(), train_t['topic2'][train_t['label_new']=='False'].mean(), train_t['topic3'][train_t['label_new']=='False'].mean(), train_t['topic4'][train_t['label_new']=='False'].mean(), train_t['topic5'][train_t['label_new']=='False'].mean(), train_t['topic6'][train_t['label_new']=='False'].mean(), train_t['topic7'][train_t['label_new']=='False'].mean(), train_t['topic8'][train_t['label_new']=='False'].mean(), train_t['topic9'][train_t['label_new']=='False'].mean(), train_t['topic10'][train_t['label_new']=='False'].mean()]\n",
    "x_t = [train_t[train_t['label_new']=='True']['topic1'].mean(), train_t['topic2'][train_t['label_new']=='True'].mean(), train_t['topic3'][train_t['label_new']=='True'].mean(), train_t['topic4'][train_t['label_new']=='True'].mean(), train_t['topic5'][train_t['label_new']=='True'].mean(), train_t['topic6'][train_t['label_new']=='True'].mean(), train_t['topic7'][train_t['label_new']=='True'].mean(), train_t['topic8'][train_t['label_new']=='True'].mean(), train_t['topic9'][train_t['label_new']=='True'].mean(), train_t['topic10'][train_t['label_new']=='True'].mean()]\n",
    "print(x_t)\n",
    "print(x_f)\n",
    "cols= train_t.columns[2:]\n",
    "cols"
   ]
  },
  {
   "cell_type": "code",
   "execution_count": 36,
   "metadata": {},
   "outputs": [
    {
     "data": {
      "text/plain": [
       "<AxesSubplot:>"
      ]
     },
     "execution_count": 36,
     "metadata": {},
     "output_type": "execute_result"
    },
    {
     "data": {
      "image/png": "[encoded data removed]",
      "text/plain": [
       "<Figure size 1440x1440 with 2 Axes>"
      ]
     },
     "metadata": {
      "needs_background": "light"
     },
     "output_type": "display_data"
    }
   ],
   "source": [
    "plt.figure(figsize=(20,20))\n",
    "plt.subplot(1,2,1)\n",
    "sns.barplot(x=cols,y=x_t)\n",
    "# plt.axis(\"off\")\n",
    "plt.subplot(1,2,2)\n",
    "sns.barplot(x=cols,y=x_f)\n",
    "# plt.axis(\"off\")"
   ]
  },
  {
   "cell_type": "code",
   "execution_count": 61,
   "metadata": {},
   "outputs": [],
   "source": [
    "text_f = \" \".join(review for review in train_t[train_t['label_new']=='False'].statement_proc)\n",
    "text_t = \" \".join(review for review in train_t[train_t['label_new']=='True'].statement_proc)"
   ]
  },
  {
   "cell_type": "code",
   "execution_count": 62,
   "metadata": {},
   "outputs": [
    {
     "data": {
      "image/png": "[encoded data removed]",
      "text/plain": [
       "<Figure size 432x288 with 1 Axes>"
      ]
     },
     "metadata": {
      "needs_background": "light"
     },
     "output_type": "display_data"
    }
   ],
   "source": [
    "wordcloud = WordCloud(max_font_size=50, max_words=100, background_color=\"white\").generate(text_f)\n",
    "plt.figure()\n",
    "plt.imshow(wordcloud, interpolation=\"bilinear\")\n",
    "plt.axis(\"off\")\n",
    "plt.show()"
   ]
  },
  {
   "cell_type": "code",
   "execution_count": 63,
   "metadata": {},
   "outputs": [
    {
     "data": {
      "image/png": "[encoded data removed]",
      "text/plain": [
       "<Figure size 432x288 with 1 Axes>"
      ]
     },
     "metadata": {
      "needs_background": "light"
     },
     "output_type": "display_data"
    }
   ],
   "source": [
    "wordcloud = WordCloud(max_font_size=50, max_words=100, background_color=\"white\").generate(text_t)\n",
    "plt.figure()\n",
    "plt.imshow(wordcloud, interpolation=\"bilinear\")\n",
    "plt.axis(\"off\")\n",
    "plt.show()"
   ]
  },
  {
   "cell_type": "markdown",
   "metadata": {},
   "source": [
    "**Preparing the two datasets for the models**"
   ]
  },
  {
   "cell_type": "code",
   "execution_count": 64,
   "metadata": {},
   "outputs": [],
   "source": [
    "train_data2 = pd.concat([train_t,train_tfidf], axis=1)"
   ]
  },
  {
   "cell_type": "code",
   "execution_count": 65,
   "metadata": {},
   "outputs": [],
   "source": [
    "train_data2['topic1']=pd.to_numeric(train_data2['topic1'])\n",
    "train_data2['topic2']=pd.to_numeric(train_data2['topic2'])\n",
    "train_data2['topic3']=pd.to_numeric(train_data2['topic3'])\n",
    "train_data2['topic4']=pd.to_numeric(train_data2['topic4'])\n",
    "train_data2['topic5']=pd.to_numeric(train_data2['topic5'])\n",
    "train_data2['topic6']=pd.to_numeric(train_data2['topic6'])\n",
    "train_data2['topic7']=pd.to_numeric(train_data2['topic7'])\n",
    "train_data2['topic8']=pd.to_numeric(train_data2['topic8'])\n",
    "train_data2['topic9']=pd.to_numeric(train_data2['topic9'])\n",
    "train_data2['topic10']=pd.to_numeric(train_data2['topic10'])"
   ]
  },
  {
   "cell_type": "code",
   "execution_count": 66,
   "metadata": {},
   "outputs": [],
   "source": [
    "del (train_data1['statement_proc'])\n",
    "del (train_data2['statement_proc'])"
   ]
  },
  {
   "cell_type": "code",
   "execution_count": 67,
   "metadata": {},
   "outputs": [],
   "source": [
    "from sklearn.model_selection import train_test_split\n",
    "from sklearn.preprocessing import StandardScaler"
   ]
  },
  {
   "cell_type": "code",
   "execution_count": 68,
   "metadata": {},
   "outputs": [],
   "source": [
    "train_data1_X = train_data1.iloc[:,1:]\n",
    "train_data1_y = train_data1['label_new']\n",
    "train_data2_X = train_data2.iloc[:,1:]\n",
    "train_data2_y = train_data2['label_new']"
   ]
  },
  {
   "cell_type": "code",
   "execution_count": 69,
   "metadata": {},
   "outputs": [],
   "source": [
    "X1 = StandardScaler().fit_transform(train_data1_X)\n",
    "X2 = StandardScaler().fit_transform(train_data2_X)"
   ]
  },
  {
   "cell_type": "code",
   "execution_count": 70,
   "metadata": {},
   "outputs": [
    {
     "data": {
      "text/plain": [
       "(12790, 8244)"
      ]
     },
     "execution_count": 70,
     "metadata": {},
     "output_type": "execute_result"
    }
   ],
   "source": [
    "X1.shape"
   ]
  },
  {
   "cell_type": "code",
   "execution_count": 71,
   "metadata": {},
   "outputs": [
    {
     "data": {
      "text/plain": [
       "(12790, 8254)"
      ]
     },
     "execution_count": 71,
     "metadata": {},
     "output_type": "execute_result"
    }
   ],
   "source": [
    "X2.shape"
   ]
  },
  {
   "cell_type": "code",
   "execution_count": 72,
   "metadata": {},
   "outputs": [],
   "source": [
    "from sklearn.decomposition import PCA\n",
    "\n",
    "pca = PCA(0.95)\n",
    "principalComponents1 = pca.fit_transform(X1)\n",
    "principalComponents2 = pca.fit_transform(X2)\n",
    "\n",
    "pca.explained_variance_ratio_ \n",
    "\n",
    "X_train1, X_test1, y_train1, y_test1 = train_test_split(principalComponents1, train_data1_y, test_size=0.3, random_state=42)\n",
    "\n",
    "X_train2, X_test2, y_train2, y_test2 = train_test_split(principalComponents2, train_data2_y, test_size=0.3, random_state=42)"
   ]
  },
  {
   "cell_type": "code",
   "execution_count": 73,
   "metadata": {},
   "outputs": [
    {
     "data": {
      "text/plain": [
       "(8953, 5204)"
      ]
     },
     "execution_count": 73,
     "metadata": {},
     "output_type": "execute_result"
    }
   ],
   "source": [
    "X_train1.shape"
   ]
  },
  {
   "cell_type": "code",
   "execution_count": 74,
   "metadata": {},
   "outputs": [
    {
     "data": {
      "text/plain": [
       "(8953, 5204)"
      ]
     },
     "execution_count": 74,
     "metadata": {},
     "output_type": "execute_result"
    }
   ],
   "source": [
    "X_train2.shape"
   ]
  },
  {
   "cell_type": "code",
   "execution_count": 75,
   "metadata": {},
   "outputs": [],
   "source": [
    "from sklearn.model_selection import train_test_split\n",
    "\n",
    "X_train3, X_test3, y_train3, y_test3 = train_test_split(train_data1_X, train_data1_y, test_size=0.3, random_state=42)\n",
    "\n",
    "X_train4, X_test4, y_train4, y_test4 = train_test_split(train_data2_X, train_data2_y, test_size=0.3, random_state=42)"
   ]
  },
  {
   "cell_type": "markdown",
   "metadata": {},
   "source": [
    "**Model Evaluation Function**"
   ]
  },
  {
   "cell_type": "code",
   "execution_count": 76,
   "metadata": {},
   "outputs": [],
   "source": [
    "def evaluate(model,df,test):\n",
    "    predictions_SGD = model.predict(df)\n",
    "    print(\"****Model Evaluation****\")\n",
    "    print(\"SGD Accuracy:\",metrics.accuracy_score(test, predictions_SGD))\n",
    "    print('\\nClasification report:\\n', classification_report(test, predictions_SGD))\n",
    "    print('\\nConfussion matrix:\\n',confusion_matrix(test, predictions_SGD))"
   ]
  },
  {
   "cell_type": "markdown",
   "metadata": {},
   "source": [
    "## Building different machine learning models for fake news detection and their evaluation"
   ]
  },
  {
   "cell_type": "markdown",
   "metadata": {},
   "source": [
    "### Model 1 - Logistic Classifier"
   ]
  },
  {
   "cell_type": "code",
   "execution_count": 45,
   "metadata": {},
   "outputs": [],
   "source": [
    "from sklearn.linear_model import SGDClassifier,LogisticRegression\n",
    "from sklearn.model_selection import GridSearchCV, RandomizedSearchCV\n",
    "from sklearn import metrics\n",
    "from sklearn.metrics import classification_report ,confusion_matrix"
   ]
  },
  {
   "cell_type": "markdown",
   "metadata": {},
   "source": [
    "### TFIDF"
   ]
  },
  {
   "cell_type": "code",
   "execution_count": 46,
   "metadata": {},
   "outputs": [],
   "source": [
    "TFIDFSGD1 = SGDClassifier(loss='log', penalty= 'elasticnet', l1_ratio= 0.05, alpha= 0.01, n_iter_no_change=5).fit(X_train1,y_train1)"
   ]
  },
  {
   "cell_type": "code",
   "execution_count": 47,
   "metadata": {},
   "outputs": [
    {
     "name": "stdout",
     "output_type": "stream",
     "text": [
      "****Model Evaluation****\n",
      "SGD Accuracy: 0.8602703004579471\n",
      "\n",
      "Clasification report:\n",
      "               precision    recall  f1-score   support\n",
      "\n",
      "       False       0.86      0.91      0.89      5438\n",
      "        True       0.85      0.78      0.81      3515\n",
      "\n",
      "    accuracy                           0.86      8953\n",
      "   macro avg       0.86      0.85      0.85      8953\n",
      "weighted avg       0.86      0.86      0.86      8953\n",
      "\n",
      "\n",
      "Confussion matrix:\n",
      " [[4969  469]\n",
      " [ 782 2733]]\n",
      "****Model Evaluation****\n",
      "SGD Accuracy: 0.5663278603075319\n",
      "\n",
      "Clasification report:\n",
      "               precision    recall  f1-score   support\n",
      "\n",
      "       False       0.62      0.70      0.66      2271\n",
      "        True       0.46      0.38      0.41      1566\n",
      "\n",
      "    accuracy                           0.57      3837\n",
      "   macro avg       0.54      0.54      0.54      3837\n",
      "weighted avg       0.55      0.57      0.56      3837\n",
      "\n",
      "\n",
      "Confussion matrix:\n",
      " [[1583  688]\n",
      " [ 976  590]]\n"
     ]
    }
   ],
   "source": [
    "# predict the labels on Train and Test dataset\n",
    "evaluate(TFIDFSGD1,X_train1,y_train1)\n",
    "evaluate(TFIDFSGD1,X_test1,y_test1)"
   ]
  },
  {
   "cell_type": "markdown",
   "metadata": {},
   "source": [
    "### TFIDF + Topics"
   ]
  },
  {
   "cell_type": "code",
   "execution_count": 48,
   "metadata": {},
   "outputs": [],
   "source": [
    "TFIDFSGD2 = SGDClassifier(loss='log', penalty= 'elasticnet', l1_ratio= 0.05, alpha= 0.000003, n_iter_no_change=5).fit(X_train2,y_train2)"
   ]
  },
  {
   "cell_type": "code",
   "execution_count": 49,
   "metadata": {},
   "outputs": [
    {
     "name": "stdout",
     "output_type": "stream",
     "text": [
      "****Model Evaluation****\n",
      "SGD Accuracy: 0.8785881827320451\n",
      "\n",
      "Clasification report:\n",
      "               precision    recall  f1-score   support\n",
      "\n",
      "       False       0.89      0.91      0.90      5438\n",
      "        True       0.86      0.83      0.84      3515\n",
      "\n",
      "    accuracy                           0.88      8953\n",
      "   macro avg       0.87      0.87      0.87      8953\n",
      "weighted avg       0.88      0.88      0.88      8953\n",
      "\n",
      "\n",
      "Confussion matrix:\n",
      " [[4958  480]\n",
      " [ 607 2908]]\n",
      "****Model Evaluation****\n",
      "SGD Accuracy: 0.5373990096429502\n",
      "\n",
      "Clasification report:\n",
      "               precision    recall  f1-score   support\n",
      "\n",
      "       False       0.61      0.62      0.61      2271\n",
      "        True       0.43      0.41      0.42      1566\n",
      "\n",
      "    accuracy                           0.54      3837\n",
      "   macro avg       0.52      0.52      0.52      3837\n",
      "weighted avg       0.53      0.54      0.54      3837\n",
      "\n",
      "\n",
      "Confussion matrix:\n",
      " [[1415  856]\n",
      " [ 919  647]]\n"
     ]
    }
   ],
   "source": [
    "# predict the labels on Train and Test dataset\n",
    "evaluate(TFIDFSGD2,X_train2,y_train2)\n",
    "evaluate(TFIDFSGD2,X_test2,y_test2)"
   ]
  },
  {
   "cell_type": "markdown",
   "metadata": {},
   "source": [
    "### Model 2 - XGBoost"
   ]
  },
  {
   "cell_type": "code",
   "execution_count": 50,
   "metadata": {},
   "outputs": [],
   "source": [
    "from xgboost import XGBClassifier"
   ]
  },
  {
   "cell_type": "markdown",
   "metadata": {},
   "source": [
    "### TFIDF"
   ]
  },
  {
   "cell_type": "code",
   "execution_count": 51,
   "metadata": {},
   "outputs": [
    {
     "name": "stderr",
     "output_type": "stream",
     "text": [
      "C:\\Users\\kmashr2\\Anaconda3\\lib\\site-packages\\xgboost\\sklearn.py:1224: UserWarning: The use of label encoder in XGBClassifier is deprecated and will be removed in a future release. To remove this warning, do the following: 1) Pass option use_label_encoder=False when constructing XGBClassifier object; and 2) Encode your labels (y) as integers starting with 0, i.e. 0, 1, 2, ..., [num_class - 1].\n",
      "  warnings.warn(label_encoder_deprecation_msg, UserWarning)\n"
     ]
    },
    {
     "name": "stdout",
     "output_type": "stream",
     "text": [
      "[20:37:09] WARNING: C:/Users/Administrator/workspace/xgboost-win64_release_1.5.1/src/learner.cc:1115: Starting in XGBoost 1.3.0, the default evaluation metric used with the objective 'binary:logistic' was changed from 'error' to 'logloss'. Explicitly set eval_metric if you'd like to restore the old behavior.\n"
     ]
    }
   ],
   "source": [
    "TFIDFXGB1 = XGBClassifier(n_estimators = 200, max_depth=15, reg_lambda =0.1).fit(X_train1,y_train1)"
   ]
  },
  {
   "cell_type": "code",
   "execution_count": 52,
   "metadata": {},
   "outputs": [
    {
     "name": "stdout",
     "output_type": "stream",
     "text": [
      "[0]\tvalidation_0-error:0.42325\n",
      "[1]\tvalidation_0-error:0.42533\n",
      "[2]\tvalidation_0-error:0.42898\n",
      "[3]\tvalidation_0-error:0.42090\n",
      "[4]\tvalidation_0-error:0.42273\n",
      "[5]\tvalidation_0-error:0.42168\n",
      "[6]\tvalidation_0-error:0.41986\n",
      "[7]\tvalidation_0-error:0.42351\n",
      "[8]\tvalidation_0-error:0.42403\n",
      "[9]\tvalidation_0-error:0.41751\n",
      "[10]\tvalidation_0-error:0.42012\n",
      "[11]\tvalidation_0-error:0.42142\n",
      "[12]\tvalidation_0-error:0.42403\n",
      "[13]\tvalidation_0-error:0.42351\n",
      "[14]\tvalidation_0-error:0.42690\n",
      "[15]\tvalidation_0-error:0.43211\n",
      "[16]\tvalidation_0-error:0.43133\n",
      "[17]\tvalidation_0-error:0.43185\n",
      "[18]\tvalidation_0-error:0.43602\n",
      "[19]\tvalidation_0-error:0.43367\n",
      "[20]\tvalidation_0-error:0.43315\n",
      "[21]\tvalidation_0-error:0.43498\n",
      "[22]\tvalidation_0-error:0.43419\n",
      "[23]\tvalidation_0-error:0.43941\n",
      "[24]\tvalidation_0-error:0.44045\n",
      "[25]\tvalidation_0-error:0.43836\n",
      "[26]\tvalidation_0-error:0.43341\n",
      "[27]\tvalidation_0-error:0.44097\n",
      "[28]\tvalidation_0-error:0.43862\n",
      "[29]\tvalidation_0-error:0.43576\n",
      "[30]\tvalidation_0-error:0.43445\n",
      "[31]\tvalidation_0-error:0.43576\n",
      "[32]\tvalidation_0-error:0.43836\n",
      "[33]\tvalidation_0-error:0.43654\n",
      "[34]\tvalidation_0-error:0.43393\n",
      "[35]\tvalidation_0-error:0.43237\n",
      "[36]\tvalidation_0-error:0.43706\n",
      "[37]\tvalidation_0-error:0.43654\n",
      "[38]\tvalidation_0-error:0.43445\n",
      "[39]\tvalidation_0-error:0.43732\n",
      "[40]\tvalidation_0-error:0.44019\n",
      "[41]\tvalidation_0-error:0.43576\n",
      "[42]\tvalidation_0-error:0.43836\n",
      "[43]\tvalidation_0-error:0.44305\n",
      "[44]\tvalidation_0-error:0.43862\n",
      "[45]\tvalidation_0-error:0.43602\n",
      "[46]\tvalidation_0-error:0.43289\n",
      "[47]\tvalidation_0-error:0.43393\n",
      "[48]\tvalidation_0-error:0.43211\n",
      "[49]\tvalidation_0-error:0.43341\n",
      "[50]\tvalidation_0-error:0.43237\n",
      "[51]\tvalidation_0-error:0.43211\n",
      "[52]\tvalidation_0-error:0.43002\n",
      "[53]\tvalidation_0-error:0.42742\n",
      "[54]\tvalidation_0-error:0.43393\n",
      "[55]\tvalidation_0-error:0.43445\n",
      "[56]\tvalidation_0-error:0.43472\n",
      "[57]\tvalidation_0-error:0.43080\n",
      "[58]\tvalidation_0-error:0.43185\n",
      "[59]\tvalidation_0-error:0.42898\n",
      "[60]\tvalidation_0-error:0.43002\n",
      "[61]\tvalidation_0-error:0.43367\n",
      "[62]\tvalidation_0-error:0.43654\n",
      "[63]\tvalidation_0-error:0.43315\n",
      "[64]\tvalidation_0-error:0.43341\n",
      "[65]\tvalidation_0-error:0.43107\n",
      "[66]\tvalidation_0-error:0.43419\n",
      "[67]\tvalidation_0-error:0.43654\n",
      "[68]\tvalidation_0-error:0.43080\n",
      "[69]\tvalidation_0-error:0.43472\n",
      "[70]\tvalidation_0-error:0.43341\n",
      "[71]\tvalidation_0-error:0.43315\n",
      "[72]\tvalidation_0-error:0.43393\n",
      "[73]\tvalidation_0-error:0.43211\n",
      "[74]\tvalidation_0-error:0.43211\n",
      "[75]\tvalidation_0-error:0.43237\n",
      "[76]\tvalidation_0-error:0.43341\n",
      "[77]\tvalidation_0-error:0.43211\n",
      "[78]\tvalidation_0-error:0.42846\n",
      "[79]\tvalidation_0-error:0.42950\n",
      "[80]\tvalidation_0-error:0.43002\n",
      "[81]\tvalidation_0-error:0.42846\n",
      "[82]\tvalidation_0-error:0.42742\n",
      "[83]\tvalidation_0-error:0.42976\n",
      "[84]\tvalidation_0-error:0.42872\n",
      "[85]\tvalidation_0-error:0.42377\n",
      "[86]\tvalidation_0-error:0.42716\n",
      "[87]\tvalidation_0-error:0.42846\n",
      "[88]\tvalidation_0-error:0.42559\n",
      "[89]\tvalidation_0-error:0.42690\n",
      "[90]\tvalidation_0-error:0.42585\n",
      "[91]\tvalidation_0-error:0.42690\n",
      "[92]\tvalidation_0-error:0.42794\n",
      "[93]\tvalidation_0-error:0.42976\n",
      "[94]\tvalidation_0-error:0.42768\n",
      "[95]\tvalidation_0-error:0.42742\n",
      "[96]\tvalidation_0-error:0.42429\n",
      "[97]\tvalidation_0-error:0.42455\n",
      "[98]\tvalidation_0-error:0.42481\n",
      "[99]\tvalidation_0-error:0.42611\n"
     ]
    }
   ],
   "source": [
    "eval_set = [(X_test1, y_test1)]\n",
    "TFIDFXGB11=XGBClassifier()\n",
    "TFIDFXGB12=TFIDFXGB11.fit(X_train1,y_train1,eval_metric=\"error\", eval_set=eval_set, verbose=True)"
   ]
  },
  {
   "cell_type": "code",
   "execution_count": 53,
   "metadata": {
    "scrolled": true
   },
   "outputs": [
    {
     "name": "stdout",
     "output_type": "stream",
     "text": [
      "****Model Evaluation****\n",
      "SGD Accuracy: 0.9995532223835586\n",
      "\n",
      "Clasification report:\n",
      "               precision    recall  f1-score   support\n",
      "\n",
      "       False       1.00      1.00      1.00      5438\n",
      "        True       1.00      1.00      1.00      3515\n",
      "\n",
      "    accuracy                           1.00      8953\n",
      "   macro avg       1.00      1.00      1.00      8953\n",
      "weighted avg       1.00      1.00      1.00      8953\n",
      "\n",
      "\n",
      "Confussion matrix:\n",
      " [[5436    2]\n",
      " [   2 3513]]\n",
      "****Model Evaluation****\n",
      "SGD Accuracy: 0.5738858483189992\n",
      "\n",
      "Clasification report:\n",
      "               precision    recall  f1-score   support\n",
      "\n",
      "       False       0.61      0.78      0.68      2271\n",
      "        True       0.46      0.28      0.35      1566\n",
      "\n",
      "    accuracy                           0.57      3837\n",
      "   macro avg       0.54      0.53      0.52      3837\n",
      "weighted avg       0.55      0.57      0.55      3837\n",
      "\n",
      "\n",
      "Confussion matrix:\n",
      " [[1767  504]\n",
      " [1131  435]]\n"
     ]
    }
   ],
   "source": [
    "# predict the labels on Train and Test dataset\n",
    "evaluate(TFIDFXGB12,X_train1,y_train1)\n",
    "evaluate(TFIDFXGB12,X_test1,y_test1)"
   ]
  },
  {
   "cell_type": "markdown",
   "metadata": {},
   "source": [
    "### TFIDF + Topics"
   ]
  },
  {
   "cell_type": "code",
   "execution_count": 54,
   "metadata": {},
   "outputs": [
    {
     "name": "stderr",
     "output_type": "stream",
     "text": [
      "C:\\Users\\kmashr2\\Anaconda3\\lib\\site-packages\\xgboost\\sklearn.py:1224: UserWarning: The use of label encoder in XGBClassifier is deprecated and will be removed in a future release. To remove this warning, do the following: 1) Pass option use_label_encoder=False when constructing XGBClassifier object; and 2) Encode your labels (y) as integers starting with 0, i.e. 0, 1, 2, ..., [num_class - 1].\n",
      "  warnings.warn(label_encoder_deprecation_msg, UserWarning)\n"
     ]
    },
    {
     "name": "stdout",
     "output_type": "stream",
     "text": [
      "[20:55:42] WARNING: C:/Users/Administrator/workspace/xgboost-win64_release_1.5.1/src/learner.cc:1115: Starting in XGBoost 1.3.0, the default evaluation metric used with the objective 'binary:logistic' was changed from 'error' to 'logloss'. Explicitly set eval_metric if you'd like to restore the old behavior.\n"
     ]
    }
   ],
   "source": [
    "TFIDFXGB2 = XGBClassifier(n_estimators = 200, max_depth=15, reg_lambda =0.05).fit(X_train2,y_train2)"
   ]
  },
  {
   "cell_type": "code",
   "execution_count": 55,
   "metadata": {},
   "outputs": [
    {
     "name": "stdout",
     "output_type": "stream",
     "text": [
      "****Model Evaluation****\n",
      "SGD Accuracy: 0.9995532223835586\n",
      "\n",
      "Clasification report:\n",
      "               precision    recall  f1-score   support\n",
      "\n",
      "       False       1.00      1.00      1.00      5438\n",
      "        True       1.00      1.00      1.00      3515\n",
      "\n",
      "    accuracy                           1.00      8953\n",
      "   macro avg       1.00      1.00      1.00      8953\n",
      "weighted avg       1.00      1.00      1.00      8953\n",
      "\n",
      "\n",
      "Confussion matrix:\n",
      " [[5436    2]\n",
      " [   2 3513]]\n",
      "****Model Evaluation****\n",
      "SGD Accuracy: 0.5850925201980715\n",
      "\n",
      "Clasification report:\n",
      "               precision    recall  f1-score   support\n",
      "\n",
      "       False       0.61      0.82      0.70      2271\n",
      "        True       0.48      0.24      0.32      1566\n",
      "\n",
      "    accuracy                           0.59      3837\n",
      "   macro avg       0.55      0.53      0.51      3837\n",
      "weighted avg       0.56      0.59      0.55      3837\n",
      "\n",
      "\n",
      "Confussion matrix:\n",
      " [[1867  404]\n",
      " [1188  378]]\n"
     ]
    }
   ],
   "source": [
    "# predict the labels on Train and Test dataset\n",
    "evaluate(TFIDFXGB2,X_train2,y_train2)\n",
    "evaluate(TFIDFXGB2,X_test2,y_test2)"
   ]
  },
  {
   "cell_type": "markdown",
   "metadata": {},
   "source": [
    "### Model 3 - Random Forest Optimizer"
   ]
  },
  {
   "cell_type": "code",
   "execution_count": 46,
   "metadata": {},
   "outputs": [],
   "source": [
    "from sklearn.ensemble import AdaBoostClassifier, RandomForestClassifier\n",
    "from sklearn.model_selection import GridSearchCV, RandomizedSearchCV\n",
    "from sklearn.metrics import classification_report"
   ]
  },
  {
   "cell_type": "markdown",
   "metadata": {},
   "source": [
    "### TFIDF"
   ]
  },
  {
   "cell_type": "code",
   "execution_count": 47,
   "metadata": {},
   "outputs": [
    {
     "name": "stdout",
     "output_type": "stream",
     "text": [
      "Random Forest Optimization\n"
     ]
    }
   ],
   "source": [
    "print(\"Random Forest Optimization\")\n",
    "RF = RandomForestClassifier()\n",
    "param_dist = {\n",
    "    'max_depth': [5,10,15,20,25,30,35,40],\n",
    "    'n_estimators': [70,80,85,90,100,110,120,130,140]\n",
    "}\n",
    "n_iter_search = 20\n",
    "rs=RandomizedSearchCV(RF,param_dist,n_iter_search)\n",
    "TFIDFRF = rs.fit(X_train1,y_train1)"
   ]
  },
  {
   "cell_type": "code",
   "execution_count": 49,
   "metadata": {},
   "outputs": [
    {
     "name": "stdout",
     "output_type": "stream",
     "text": [
      "****Model Evaluation****\n",
      "SGD Accuracy: 0.9995532223835586\n",
      "\n",
      "Clasification report:\n",
      "               precision    recall  f1-score   support\n",
      "\n",
      "       False       1.00      1.00      1.00      5438\n",
      "        True       1.00      1.00      1.00      3515\n",
      "\n",
      "    accuracy                           1.00      8953\n",
      "   macro avg       1.00      1.00      1.00      8953\n",
      "weighted avg       1.00      1.00      1.00      8953\n",
      "\n",
      "\n",
      "Confussion matrix:\n",
      " [[5437    1]\n",
      " [   3 3512]]\n",
      "****Model Evaluation****\n",
      "SGD Accuracy: 0.5884805837894188\n",
      "\n",
      "Clasification report:\n",
      "               precision    recall  f1-score   support\n",
      "\n",
      "       False       0.60      0.94      0.73      2271\n",
      "        True       0.47      0.08      0.13      1566\n",
      "\n",
      "    accuracy                           0.59      3837\n",
      "   macro avg       0.54      0.51      0.43      3837\n",
      "weighted avg       0.55      0.59      0.49      3837\n",
      "\n",
      "\n",
      "Confussion matrix:\n",
      " [[2135  136]\n",
      " [1443  123]]\n"
     ]
    }
   ],
   "source": [
    "from sklearn.metrics import confusion_matrix\n",
    "# predict the labels on Train and Test dataset\n",
    "evaluate(TFIDFRF,X_train1,y_train1)\n",
    "evaluate(TFIDFRF,X_test1,y_test1)"
   ]
  },
  {
   "cell_type": "markdown",
   "metadata": {},
   "source": [
    "### TFIDF + Topics"
   ]
  },
  {
   "cell_type": "code",
   "execution_count": 50,
   "metadata": {},
   "outputs": [
    {
     "name": "stdout",
     "output_type": "stream",
     "text": [
      "Random Forest Optimization\n"
     ]
    }
   ],
   "source": [
    "print(\"Random Forest Optimization\")\n",
    "RF = RandomForestClassifier()\n",
    "param_dist = {\n",
    "    'max_depth': [5,10,15,20,25,30,35,40],\n",
    "    'n_estimators': [70,80,85,90,100,110,120,130,140]\n",
    "}\n",
    "n_iter_search = 20\n",
    "rs=RandomizedSearchCV(RF,param_dist,n_iter_search)\n",
    "TFIDFRF = rs.fit(X_train1,y_train1)"
   ]
  },
  {
   "cell_type": "code",
   "execution_count": 51,
   "metadata": {},
   "outputs": [
    {
     "name": "stdout",
     "output_type": "stream",
     "text": [
      "****Model Evaluation****\n",
      "SGD Accuracy: 0.879816821177259\n",
      "\n",
      "Clasification report:\n",
      "               precision    recall  f1-score   support\n",
      "\n",
      "       False       0.84      1.00      0.91      5438\n",
      "        True       1.00      0.69      0.82      3515\n",
      "\n",
      "    accuracy                           0.88      8953\n",
      "   macro avg       0.92      0.85      0.86      8953\n",
      "weighted avg       0.90      0.88      0.87      8953\n",
      "\n",
      "\n",
      "Confussion matrix:\n",
      " [[5435    3]\n",
      " [1073 2442]]\n",
      "****Model Evaluation****\n",
      "SGD Accuracy: 0.5936929893145687\n",
      "\n",
      "Clasification report:\n",
      "               precision    recall  f1-score   support\n",
      "\n",
      "       False       0.60      0.98      0.74      2271\n",
      "        True       0.53      0.04      0.07      1566\n",
      "\n",
      "    accuracy                           0.59      3837\n",
      "   macro avg       0.56      0.51      0.41      3837\n",
      "weighted avg       0.57      0.59      0.47      3837\n",
      "\n",
      "\n",
      "Confussion matrix:\n",
      " [[2215   56]\n",
      " [1503   63]]\n"
     ]
    }
   ],
   "source": [
    "# predict the labels on Train and Test dataset\n",
    "evaluate(TFIDFRF,X_train1,y_train1)\n",
    "evaluate(TFIDFRF,X_test1,y_test1)"
   ]
  },
  {
   "cell_type": "markdown",
   "metadata": {},
   "source": [
    "# Model 04: MultiNomial Naive Bayes"
   ]
  },
  {
   "cell_type": "code",
   "execution_count": 78,
   "metadata": {},
   "outputs": [],
   "source": [
    "def modelTraining(model, trainX, trainY, testX, testY, fileName=None):\n",
    "    # cross-validation\n",
    "    index = ['True News', 'Fake News']\n",
    "    classifier = model.fit(trainX, trainY)\n",
    "    predictions = classifier.predict(testX)\n",
    "    print(metrics.confusion_matrix(testY, predictions))\n",
    "    print(metrics.accuracy_score(predictions, testY) * 100)\n",
    "    print( metrics.classification_report(testY, predictions, target_names=['True News', 'Fake News']))\n",
    "    \n",
    "    # print the scores on training and test set\n",
    "\n",
    "    print('Training set score: {:.4f}'.format(classifier.score(trainX, trainY)))\n",
    "\n",
    "    print('Test set score: {:.4f}'.format(classifier.score(testX, testY)))\n",
    "    \n",
    "    cm = metrics.confusion_matrix(testY, predictions)\n",
    "    cm_matrix = pd.DataFrame(data=cm, index=index, columns=index)\n",
    "    fig, ax = plt.subplots(figsize = (10,7))\n",
    "    sns.set(font_scale=1.4) # for label size\n",
    "    fig = sns.heatmap(cm_matrix, annot=True, fmt='d', cmap=\"Blues\",annot_kws={\"size\": 16}, linewidths=2, ax=ax, vmax=80,vmin=0)\n",
    "    ax.set_yticklabels([i for i in index], rotation=1)\n",
    "    plt.xlabel(\"Actual\",fontsize=15)\n",
    "    plt.ylabel(\"Predicted\",fontsize=15) \n",
    "    figure = fig.get_figure()\n",
    "\n",
    "    return metrics.accuracy_score(predictions, testY) * 100"
   ]
  },
  {
   "cell_type": "markdown",
   "metadata": {},
   "source": [
    "# TFIDF"
   ]
  },
  {
   "cell_type": "code",
   "execution_count": 79,
   "metadata": {},
   "outputs": [
    {
     "name": "stdout",
     "output_type": "stream",
     "text": [
      "[[2186   85]\n",
      " [1482   84]]\n",
      "59.16080271045088\n",
      "              precision    recall  f1-score   support\n",
      "\n",
      "   True News       0.60      0.96      0.74      2271\n",
      "   Fake News       0.50      0.05      0.10      1566\n",
      "\n",
      "    accuracy                           0.59      3837\n",
      "   macro avg       0.55      0.51      0.42      3837\n",
      "weighted avg       0.56      0.59      0.48      3837\n",
      "\n",
      "Training set score: 0.6721\n",
      "Test set score: 0.5916\n",
      "accuracy:  59.16080271045088\n",
      "Cross-validation scores for Multinomial Naive bayes with \"BoW\" :[0.60692351 0.61306533 0.61027359 0.61340782 0.60502793]\n",
      "Average cross-validation score for Multinomial Naive bayes with \"BoW\" : 0.6097\n"
     ]
    },
    {
     "data": {
      "image/png": "[encoded data removed]",
      "text/plain": [
       "<Figure size 720x504 with 2 Axes>"
      ]
     },
     "metadata": {
      "needs_background": "light"
     },
     "output_type": "display_data"
    }
   ],
   "source": [
    "accuracy = modelTraining(MultinomialNB(), X_train3, y_train3, X_test3, y_test3) \n",
    "print(\"accuracy: \", accuracy)\n",
    "\n",
    "# Applying 5-Fold Cross Validation\n",
    "\n",
    "from sklearn.model_selection import cross_val_score\n",
    "\n",
    "scores = cross_val_score(MultinomialNB(), X_train3, y_train3, cv = 5, scoring='accuracy')\n",
    "\n",
    "print('Cross-validation scores for Multinomial Naive bayes with \"BoW\" :{}'.format(scores))\n",
    "print('Average cross-validation score for Multinomial Naive bayes with \"BoW\" : {:.4f}'.format(scores.mean()))"
   ]
  },
  {
   "cell_type": "markdown",
   "metadata": {},
   "source": [
    "# TFIDF + Topic Modeling"
   ]
  },
  {
   "cell_type": "code",
   "execution_count": 81,
   "metadata": {},
   "outputs": [
    {
     "name": "stdout",
     "output_type": "stream",
     "text": [
      "[[2190   81]\n",
      " [1484   82]]\n",
      "59.21292676570237\n",
      "              precision    recall  f1-score   support\n",
      "\n",
      "   True News       0.60      0.96      0.74      2271\n",
      "   Fake News       0.50      0.05      0.09      1566\n",
      "\n",
      "    accuracy                           0.59      3837\n",
      "   macro avg       0.55      0.51      0.42      3837\n",
      "weighted avg       0.56      0.59      0.47      3837\n",
      "\n",
      "Training set score: 0.6693\n",
      "Test set score: 0.5921\n",
      "accuracy:  59.21292676570237\n",
      "Cross-validation scores for Multinomial Naive bayes with \"BoW\" :[0.6080402  0.61418202 0.61250698 0.6122905  0.60837989]\n",
      "Average cross-validation score for Multinomial Naive bayes with \"BoW\" : 0.6111\n"
     ]
    },
    {
     "data": {
      "image/png": "[encoded data removed]",
      "text/plain": [
       "<Figure size 720x504 with 2 Axes>"
      ]
     },
     "metadata": {},
     "output_type": "display_data"
    }
   ],
   "source": [
    "accuracy = modelTraining(MultinomialNB(), X_train4, y_train4, X_test4, y_test4) \n",
    "print(\"accuracy: \", accuracy)\n",
    "\n",
    "# Applying 5-Fold Cross Validation\n",
    "\n",
    "from sklearn.model_selection import cross_val_score\n",
    "\n",
    "scores = cross_val_score(MultinomialNB(), X_train4, y_train4, cv = 5, scoring='accuracy')\n",
    "\n",
    "print('Cross-validation scores for Multinomial Naive bayes with \"BoW\" :{}'.format(scores))\n",
    "print('Average cross-validation score for Multinomial Naive bayes with \"BoW\" : {:.4f}'.format(scores.mean()))"
   ]
  },
  {
   "cell_type": "markdown",
   "metadata": {},
   "source": [
    "# Model 05: SVM"
   ]
  },
  {
   "cell_type": "markdown",
   "metadata": {},
   "source": [
    "# TFIDF"
   ]
  },
  {
   "cell_type": "code",
   "execution_count": 82,
   "metadata": {},
   "outputs": [
    {
     "name": "stdout",
     "output_type": "stream",
     "text": [
      "[[1840  431]\n",
      " [1132  434]]\n",
      "59.26505082095387\n",
      "              precision    recall  f1-score   support\n",
      "\n",
      "   True News       0.62      0.81      0.70      2271\n",
      "   Fake News       0.50      0.28      0.36      1566\n",
      "\n",
      "    accuracy                           0.59      3837\n",
      "   macro avg       0.56      0.54      0.53      3837\n",
      "weighted avg       0.57      0.59      0.56      3837\n",
      "\n",
      "Training set score: 0.7669\n",
      "Test set score: 0.5927\n",
      "accuracy:  59.26505082095387\n",
      "Cross-validation scores for Linear SVM with \"BoW\" :[0.60301508 0.59798995 0.59408152 0.60670391 0.59329609]\n",
      "Average cross-validation score for Linear SVM with \"BoW\" : 0.5990\n"
     ]
    },
    {
     "data": {
      "image/png": "[encoded data removed]",
      "text/plain": [
       "<Figure size 720x504 with 2 Axes>"
      ]
     },
     "metadata": {},
     "output_type": "display_data"
    }
   ],
   "source": [
    "accuracy = modelTraining(svm.SVC(kernel='linear'), X_train3, y_train3, X_test3, y_test3) \n",
    "\n",
    "print(\"accuracy: \", accuracy)\n",
    "\n",
    "\n",
    "scores = cross_val_score(svm.SVC(kernel='linear'), X_train3, y_train3, cv = 5, scoring='accuracy')\n",
    "\n",
    "print('Cross-validation scores for Linear SVM with \"BoW\" :{}'.format(scores))\n",
    "print('Average cross-validation score for Linear SVM with \"BoW\" : {:.4f}'.format(scores.mean()))"
   ]
  },
  {
   "cell_type": "markdown",
   "metadata": {},
   "source": [
    "# TFIDF + Topic"
   ]
  },
  {
   "cell_type": "code",
   "execution_count": 83,
   "metadata": {},
   "outputs": [
    {
     "name": "stdout",
     "output_type": "stream",
     "text": [
      "[[1839  432]\n",
      " [1129  437]]\n",
      "59.31717487620537\n",
      "              precision    recall  f1-score   support\n",
      "\n",
      "   True News       0.62      0.81      0.70      2271\n",
      "   Fake News       0.50      0.28      0.36      1566\n",
      "\n",
      "    accuracy                           0.59      3837\n",
      "   macro avg       0.56      0.54      0.53      3837\n",
      "weighted avg       0.57      0.59      0.56      3837\n",
      "\n",
      "Training set score: 0.7672\n",
      "Test set score: 0.5932\n",
      "accuracy:  59.31717487620537\n",
      "Cross-validation scores for Linear SVM with \"BoW\" :[0.60022334 0.59519821 0.59687326 0.60446927 0.59329609]\n",
      "Average cross-validation score for Linear SVM with \"BoW\" : 0.5980\n"
     ]
    },
    {
     "data": {
      "image/png": "[encoded data removed]",
      "text/plain": [
       "<Figure size 720x504 with 2 Axes>"
      ]
     },
     "metadata": {},
     "output_type": "display_data"
    }
   ],
   "source": [
    "accuracy = modelTraining(svm.SVC(kernel='linear'), X_train4, y_train4, X_test4, y_test4) \n",
    "\n",
    "print(\"accuracy: \", accuracy)\n",
    "\n",
    "\n",
    "scores = cross_val_score(svm.SVC(kernel='linear'), X_train4, y_train4, cv = 5, scoring='accuracy')\n",
    "\n",
    "print('Cross-validation scores for Linear SVM with \"BoW\" :{}'.format(scores))\n",
    "print('Average cross-validation score for Linear SVM with \"BoW\" : {:.4f}'.format(scores.mean()))"
   ]
  },
  {
   "cell_type": "code",
   "execution_count": null,
   "metadata": {},
   "outputs": [],
   "source": []
  }
 ],
 "metadata": {
  "kernelspec": {
   "display_name": "Python 3",
   "language": "python",
   "name": "python3"
  },
  "language_info": {
   "codemirror_mode": {
    "name": "ipython",
    "version": 3
   },
   "file_extension": ".py",
   "mimetype": "text/x-python",
   "name": "python",
   "nbconvert_exporter": "python",
   "pygments_lexer": "ipython3",
   "version": "3.8.5"
  }
 },
 "nbformat": 4,
 "nbformat_minor": 4
}
